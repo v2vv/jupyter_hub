{
 "cells": [
  {
   "cell_type": "code",
   "execution_count": null,
   "id": "24e83eb7-1e74-4093-a071-54a94f02b3a5",
   "metadata": {},
   "outputs": [
    {
     "name": "stdout",
     "output_type": "stream",
     "text": [
      "Enter password:  ··········\n",
      "Verify password:  ··········\n"
     ]
    },
    {
     "name": "stdout",
     "output_type": "stream",
     "text": [
      "argon2:$argon2id$v=19$m=10240,t=10,p=8$KC3yzmtavdOBvevPfqOrWQ$PMtUAvhBWrqeVj4jYRUleg\n"
     ]
    }
   ],
   "source": [
    "from notebook.auth import passwd\n",
    "p = passwd()\n",
    "print(p)"
   ]
  },
  {
   "cell_type": "markdown",
   "id": "1974a605-8572-4562-a598-b8dbcfcd1010",
   "metadata": {},
   "source": [
    "$$\n",
    "\\begin{aligned}\n",
    "\\dot{x} & = \\sigma(y-x) \\\\\n",
    "\\dot{y} & = \\rho x - y - xz \\\\\n",
    "\\dot{z} & = -\\beta z + xy\n",
    "\\end{aligned}\n",
    "$$"
   ]
  }
 ],
 "metadata": {
  "kernelspec": {
   "display_name": "Python 3.10.5 64-bit",
   "language": "python",
   "name": "python3"
  },
  "language_info": {
   "codemirror_mode": {
    "name": "ipython",
    "version": 3
   },
   "file_extension": ".py",
   "mimetype": "text/x-python",
   "name": "python",
   "nbconvert_exporter": "python",
   "pygments_lexer": "ipython3",
   "version": "3.10.5"
  },
  "vscode": {
   "interpreter": {
    "hash": "b6213e0af081d56db034f795ff49d96980936e2ae540dda57fc6c3cbea6a5fc9"
   }
  }
 },
 "nbformat": 4,
 "nbformat_minor": 5
}
