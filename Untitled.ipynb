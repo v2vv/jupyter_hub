{
 "cells": [
  {
   "cell_type": "code",
   "execution_count": null,
   "id": "24e83eb7-1e74-4093-a071-54a94f02b3a5",
   "metadata": {},
   "outputs": [
    {
     "ename": "",
     "evalue": "",
     "output_type": "error",
     "traceback": [
      "\u001b[1;31mRunning cells with 'Python 3.10.5 64-bit' requires ipykernel package.\n",
      "Run the following command to install 'ipykernel' into the Python environment. \n",
      "Command: '\"c:/Program Files/WindowsApps/PythonSoftwareFoundation.Python.3.10_3.10.1520.0_x64__qbz5n2kfra8p0/python3.10.exe\" -m pip install ipykernel -U --user --force-reinstall'"
     ]
    }
   ],
   "source": [
    "from notebook.auth import passwd\n",
    "p = passwd()\n",
    "print(p)"
   ]
  },
  {
   "cell_type": "markdown",
   "id": "1974a605-8572-4562-a598-b8dbcfcd1010",
   "metadata": {},
   "source": [
    "$$\n",
    "\\begin{aligned}\n",
    "\\dot{x} & = \\sigma(y-x) \\\\\n",
    "\\dot{y} & = \\rho x - y - xz \\\\\n",
    "\\dot{z} & = -\\beta z + xy\n",
    "\\end{aligned}\n",
    "$$"
   ]
  }
 ],
 "metadata": {
  "kernelspec": {
   "display_name": "Python 3.10.5 64-bit",
   "language": "python",
   "name": "python3"
  },
  "language_info": {
   "codemirror_mode": {
    "name": "ipython",
    "version": 3
   },
   "file_extension": ".py",
   "mimetype": "text/x-python",
   "name": "python",
   "nbconvert_exporter": "python",
   "pygments_lexer": "ipython3",
   "version": "3.10.5"
  },
  "vscode": {
   "interpreter": {
    "hash": "94d4486af43721e86e4714ccb6cde241d38a285107c18fd7688bdb36d91005dd"
   }
  }
 },
 "nbformat": 4,
 "nbformat_minor": 5
}
