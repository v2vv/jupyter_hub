{
 "cells": [
  {
   "cell_type": "code",
   "execution_count": 3,
   "id": "24e83eb7-1e74-4093-a071-54a94f02b3a5",
   "metadata": {},
   "outputs": [
    {
     "name": "stdin",
     "output_type": "stream",
     "text": [
      "Enter password:  ··········\n",
      "Verify password:  ··········\n"
     ]
    },
    {
     "name": "stdout",
     "output_type": "stream",
     "text": [
      "argon2:$argon2id$v=19$m=10240,t=10,p=8$6WTgv3gfm7Xq5o+vq1lKBg$c/h6762Ltoe6PFf9himEYg\n"
     ]
    }
   ],
   "source": [
    "from notebook.auth import passwd\n",
    "p = passwd()\n",
    "print(p)"
   ]
  }
 ],
 "metadata": {
  "kernelspec": {
   "display_name": "Python 3 (ipykernel)",
   "language": "python",
   "name": "python3"
  },
  "language_info": {
   "codemirror_mode": {
    "name": "ipython",
    "version": 3
   },
   "file_extension": ".py",
   "mimetype": "text/x-python",
   "name": "python",
   "nbconvert_exporter": "python",
   "pygments_lexer": "ipython3",
   "version": "3.8.10"
  }
 },
 "nbformat": 4,
 "nbformat_minor": 5
}
