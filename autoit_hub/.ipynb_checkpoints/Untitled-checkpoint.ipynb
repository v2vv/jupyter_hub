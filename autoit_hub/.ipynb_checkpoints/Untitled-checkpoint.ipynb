{
 "cells": [
  {
   "cell_type": "markdown",
   "id": "834b742e-3cfb-4c7e-b159-e029e6311bd0",
   "metadata": {},
   "source": [
    "# connect linux"
   ]
  },
  {
   "cell_type": "code",
   "execution_count": null,
   "id": "376ba4fb-c1f9-453a-9e23-0d1e57541e57",
   "metadata": {},
   "outputs": [],
   "source": [
    "WinWaitActive(\"Windows PowerShell\")\n",
    "Send(\"scp C:\\Users\\Mr.Stark\\.ssh\\id_rsa.pub root@122.51.221.67:/root/.ssh/authorized_keys{ENTER}\")\n",
    "Send(\"ssh root@122.51.221.67{ENTER}\")"
   ]
  }
 ],
 "metadata": {
  "kernelspec": {
   "display_name": "Python 3 (ipykernel)",
   "language": "python",
   "name": "python3"
  },
  "language_info": {
   "codemirror_mode": {
    "name": "ipython",
    "version": 3
   },
   "file_extension": ".py",
   "mimetype": "text/x-python",
   "name": "python",
   "nbconvert_exporter": "python",
   "pygments_lexer": "ipython3",
   "version": "3.8.10"
  }
 },
 "nbformat": 4,
 "nbformat_minor": 5
}
